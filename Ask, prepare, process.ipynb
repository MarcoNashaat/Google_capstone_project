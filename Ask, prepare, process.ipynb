{
 "cells": [
  {
   "cell_type": "markdown",
   "id": "72b34a23",
   "metadata": {},
   "source": [
    "# Introduction\n",
    "I'm Marco Nashaat, a communication engineer in my senior year (at the time of this notebook) and I'm passionate about Data Analysis. This is the Google Data Analysis Capstone project which is the final step of a full specialisation which has been of great benefit to me and I'm excited that I've been this far in the program."
   ]
  },
  {
   "cell_type": "markdown",
   "id": "e276141f",
   "metadata": {},
   "source": [
    "## Project objective\n",
    "Help Cyclistic, a bike-share company in Chicago in their growth and help the company make more profit by designing a marketing strategy to convert casual riders into annual members.\n",
    "### Goals\n",
    "1. A clear statement of the business task\n",
    "2. A description of all data sources used\n",
    "3. Documentation of any cleaning or manipulation of data\n",
    "4. A summary of the analysis\n",
    "5. Supporting visualizations and key findings\n",
    "6. Top three recommendations based on the analysis"
   ]
  },
  {
   "cell_type": "markdown",
   "id": "1bff14b5",
   "metadata": {},
   "source": [
    "### Ask phase\n",
    "The question asked is **\"How do annual members and casual riders use Cyclistic bikes differently?\"**"
   ]
  },
  {
   "cell_type": "markdown",
   "id": "5d733796",
   "metadata": {},
   "source": [
    "### Prepare phase\n",
    "Data location --> Download it [Here](https://divvy-tripdata.s3.amazonaws.com/index.html)<br>\n",
    "Data format --> CSV files<br>\n",
    "ROCCC analysis --> The data is reliable, original, comprehensive, current, cited<br>\n",
    "Data security and privacy --> The data is [licensed](https://ride.divvybikes.com/data-license-agreement) and no personal information is collected<br>\n",
    "Data storage --> The data is stored on my local machine in four different CSV files, one for each quarter of the year 2019"
   ]
  },
  {
   "cell_type": "markdown",
   "id": "68f61c76",
   "metadata": {},
   "source": [
    "### Process phase\n",
    "1. loading the data into dataframes\n",
    "2. checking for nulls (null values are found in gender and birth_year columns in all of the dataframes<br> \n",
    "dataframes lengths before droping nulls(365069, 1108163, 1640718, 704054)<br>\n",
    "dataframes lengths after droping nulls(345357, 922608, 1353368, 637463)<br>\n",
    "3. merging the four dataframes into one\n",
    "4. checking for duplicates (**no duplicates** were found)\n",
    "5. checking for inconsistencies in the start and end time (total 8 records were found and removed)\n",
    "6. checking for inconsistencies in duration column (no inconsistencies were found)\n",
    "7. checking for inconsistencies in datatypes (**start time** and **end time** were cast to **datatime**, **duration** is cast to **float**)\n",
    "8. new column was created for the **day of the week** for each record\n",
    "9. checking for inconsistencies in categorical columns(gender, user type)\n",
    "10. checking for inconsistencies in birth year column (**738** removed records are **above 100 years**, **5** removed records are **below 16 years**)"
   ]
  },
  {
   "cell_type": "code",
   "execution_count": 1,
   "id": "9d499fe7",
   "metadata": {},
   "outputs": [],
   "source": [
    "# improting libraries for data processing\n",
    "import pandas as pd\n",
    "import numpy as np\n",
    "import matplotlib.pyplot as plt\n",
    "%matplotlib inline"
   ]
  },
  {
   "cell_type": "code",
   "execution_count": 2,
   "id": "ca7fdb41",
   "metadata": {},
   "outputs": [],
   "source": [
    "# loading data from the CSV files into pandas dataframes\n",
    "df_q1 = pd.read_csv('Divvy_Trips_2019_Q1.csv')\n",
    "df_q2 = pd.read_csv('Divvy_Trips_2019_Q2.csv')\n",
    "df_q3 = pd.read_csv('Divvy_Trips_2019_Q3.csv')\n",
    "df_q4 = pd.read_csv('Divvy_Trips_2019_Q4.csv')"
   ]
  },
  {
   "cell_type": "code",
   "execution_count": 3,
   "id": "067b47bd",
   "metadata": {},
   "outputs": [],
   "source": [
    "# checking sample of data"
   ]
  },
  {
   "cell_type": "code",
   "execution_count": 4,
   "id": "0b534cde",
   "metadata": {},
   "outputs": [
    {
     "data": {
      "text/html": [
       "<div>\n",
       "<style scoped>\n",
       "    .dataframe tbody tr th:only-of-type {\n",
       "        vertical-align: middle;\n",
       "    }\n",
       "\n",
       "    .dataframe tbody tr th {\n",
       "        vertical-align: top;\n",
       "    }\n",
       "\n",
       "    .dataframe thead th {\n",
       "        text-align: right;\n",
       "    }\n",
       "</style>\n",
       "<table border=\"1\" class=\"dataframe\">\n",
       "  <thead>\n",
       "    <tr style=\"text-align: right;\">\n",
       "      <th></th>\n",
       "      <th>trip_id</th>\n",
       "      <th>start_time</th>\n",
       "      <th>end_time</th>\n",
       "      <th>bikeid</th>\n",
       "      <th>tripduration</th>\n",
       "      <th>from_station_id</th>\n",
       "      <th>from_station_name</th>\n",
       "      <th>to_station_id</th>\n",
       "      <th>to_station_name</th>\n",
       "      <th>usertype</th>\n",
       "      <th>gender</th>\n",
       "      <th>birthyear</th>\n",
       "    </tr>\n",
       "  </thead>\n",
       "  <tbody>\n",
       "    <tr>\n",
       "      <th>0</th>\n",
       "      <td>21742443</td>\n",
       "      <td>2019-01-01 00:04:37</td>\n",
       "      <td>2019-01-01 00:11:07</td>\n",
       "      <td>2167</td>\n",
       "      <td>390.0</td>\n",
       "      <td>199</td>\n",
       "      <td>Wabash Ave &amp; Grand Ave</td>\n",
       "      <td>84</td>\n",
       "      <td>Milwaukee Ave &amp; Grand Ave</td>\n",
       "      <td>Subscriber</td>\n",
       "      <td>Male</td>\n",
       "      <td>1989.0</td>\n",
       "    </tr>\n",
       "    <tr>\n",
       "      <th>1</th>\n",
       "      <td>21742444</td>\n",
       "      <td>2019-01-01 00:08:13</td>\n",
       "      <td>2019-01-01 00:15:34</td>\n",
       "      <td>4386</td>\n",
       "      <td>441.0</td>\n",
       "      <td>44</td>\n",
       "      <td>State St &amp; Randolph St</td>\n",
       "      <td>624</td>\n",
       "      <td>Dearborn St &amp; Van Buren St (*)</td>\n",
       "      <td>Subscriber</td>\n",
       "      <td>Female</td>\n",
       "      <td>1990.0</td>\n",
       "    </tr>\n",
       "    <tr>\n",
       "      <th>2</th>\n",
       "      <td>21742445</td>\n",
       "      <td>2019-01-01 00:13:23</td>\n",
       "      <td>2019-01-01 00:27:12</td>\n",
       "      <td>1524</td>\n",
       "      <td>829.0</td>\n",
       "      <td>15</td>\n",
       "      <td>Racine Ave &amp; 18th St</td>\n",
       "      <td>644</td>\n",
       "      <td>Western Ave &amp; Fillmore St (*)</td>\n",
       "      <td>Subscriber</td>\n",
       "      <td>Female</td>\n",
       "      <td>1994.0</td>\n",
       "    </tr>\n",
       "    <tr>\n",
       "      <th>3</th>\n",
       "      <td>21742446</td>\n",
       "      <td>2019-01-01 00:13:45</td>\n",
       "      <td>2019-01-01 00:43:28</td>\n",
       "      <td>252</td>\n",
       "      <td>1,783.0</td>\n",
       "      <td>123</td>\n",
       "      <td>California Ave &amp; Milwaukee Ave</td>\n",
       "      <td>176</td>\n",
       "      <td>Clark St &amp; Elm St</td>\n",
       "      <td>Subscriber</td>\n",
       "      <td>Male</td>\n",
       "      <td>1993.0</td>\n",
       "    </tr>\n",
       "    <tr>\n",
       "      <th>4</th>\n",
       "      <td>21742447</td>\n",
       "      <td>2019-01-01 00:14:52</td>\n",
       "      <td>2019-01-01 00:20:56</td>\n",
       "      <td>1170</td>\n",
       "      <td>364.0</td>\n",
       "      <td>173</td>\n",
       "      <td>Mies van der Rohe Way &amp; Chicago Ave</td>\n",
       "      <td>35</td>\n",
       "      <td>Streeter Dr &amp; Grand Ave</td>\n",
       "      <td>Subscriber</td>\n",
       "      <td>Male</td>\n",
       "      <td>1994.0</td>\n",
       "    </tr>\n",
       "  </tbody>\n",
       "</table>\n",
       "</div>"
      ],
      "text/plain": [
       "    trip_id           start_time             end_time  bikeid tripduration  \\\n",
       "0  21742443  2019-01-01 00:04:37  2019-01-01 00:11:07    2167        390.0   \n",
       "1  21742444  2019-01-01 00:08:13  2019-01-01 00:15:34    4386        441.0   \n",
       "2  21742445  2019-01-01 00:13:23  2019-01-01 00:27:12    1524        829.0   \n",
       "3  21742446  2019-01-01 00:13:45  2019-01-01 00:43:28     252      1,783.0   \n",
       "4  21742447  2019-01-01 00:14:52  2019-01-01 00:20:56    1170        364.0   \n",
       "\n",
       "   from_station_id                    from_station_name  to_station_id  \\\n",
       "0              199               Wabash Ave & Grand Ave             84   \n",
       "1               44               State St & Randolph St            624   \n",
       "2               15                 Racine Ave & 18th St            644   \n",
       "3              123       California Ave & Milwaukee Ave            176   \n",
       "4              173  Mies van der Rohe Way & Chicago Ave             35   \n",
       "\n",
       "                  to_station_name    usertype  gender  birthyear  \n",
       "0       Milwaukee Ave & Grand Ave  Subscriber    Male     1989.0  \n",
       "1  Dearborn St & Van Buren St (*)  Subscriber  Female     1990.0  \n",
       "2   Western Ave & Fillmore St (*)  Subscriber  Female     1994.0  \n",
       "3               Clark St & Elm St  Subscriber    Male     1993.0  \n",
       "4         Streeter Dr & Grand Ave  Subscriber    Male     1994.0  "
      ]
     },
     "execution_count": 4,
     "metadata": {},
     "output_type": "execute_result"
    }
   ],
   "source": [
    "df_q1.head()"
   ]
  },
  {
   "cell_type": "code",
   "execution_count": 6,
   "id": "b68735b7",
   "metadata": {},
   "outputs": [
    {
     "data": {
      "text/html": [
       "<div>\n",
       "<style scoped>\n",
       "    .dataframe tbody tr th:only-of-type {\n",
       "        vertical-align: middle;\n",
       "    }\n",
       "\n",
       "    .dataframe tbody tr th {\n",
       "        vertical-align: top;\n",
       "    }\n",
       "\n",
       "    .dataframe thead th {\n",
       "        text-align: right;\n",
       "    }\n",
       "</style>\n",
       "<table border=\"1\" class=\"dataframe\">\n",
       "  <thead>\n",
       "    <tr style=\"text-align: right;\">\n",
       "      <th></th>\n",
       "      <th>01 - Rental Details Rental ID</th>\n",
       "      <th>01 - Rental Details Local Start Time</th>\n",
       "      <th>01 - Rental Details Local End Time</th>\n",
       "      <th>01 - Rental Details Bike ID</th>\n",
       "      <th>01 - Rental Details Duration In Seconds Uncapped</th>\n",
       "      <th>03 - Rental Start Station ID</th>\n",
       "      <th>03 - Rental Start Station Name</th>\n",
       "      <th>02 - Rental End Station ID</th>\n",
       "      <th>02 - Rental End Station Name</th>\n",
       "      <th>User Type</th>\n",
       "      <th>Member Gender</th>\n",
       "      <th>05 - Member Details Member Birthday Year</th>\n",
       "    </tr>\n",
       "  </thead>\n",
       "  <tbody>\n",
       "    <tr>\n",
       "      <th>0</th>\n",
       "      <td>22178529</td>\n",
       "      <td>2019-04-01 00:02:22</td>\n",
       "      <td>2019-04-01 00:09:48</td>\n",
       "      <td>6251</td>\n",
       "      <td>446.0</td>\n",
       "      <td>81</td>\n",
       "      <td>Daley Center Plaza</td>\n",
       "      <td>56</td>\n",
       "      <td>Desplaines St &amp; Kinzie St</td>\n",
       "      <td>Subscriber</td>\n",
       "      <td>Male</td>\n",
       "      <td>1975.0</td>\n",
       "    </tr>\n",
       "    <tr>\n",
       "      <th>1</th>\n",
       "      <td>22178530</td>\n",
       "      <td>2019-04-01 00:03:02</td>\n",
       "      <td>2019-04-01 00:20:30</td>\n",
       "      <td>6226</td>\n",
       "      <td>1,048.0</td>\n",
       "      <td>317</td>\n",
       "      <td>Wood St &amp; Taylor St</td>\n",
       "      <td>59</td>\n",
       "      <td>Wabash Ave &amp; Roosevelt Rd</td>\n",
       "      <td>Subscriber</td>\n",
       "      <td>Female</td>\n",
       "      <td>1984.0</td>\n",
       "    </tr>\n",
       "    <tr>\n",
       "      <th>2</th>\n",
       "      <td>22178531</td>\n",
       "      <td>2019-04-01 00:11:07</td>\n",
       "      <td>2019-04-01 00:15:19</td>\n",
       "      <td>5649</td>\n",
       "      <td>252.0</td>\n",
       "      <td>283</td>\n",
       "      <td>LaSalle St &amp; Jackson Blvd</td>\n",
       "      <td>174</td>\n",
       "      <td>Canal St &amp; Madison St</td>\n",
       "      <td>Subscriber</td>\n",
       "      <td>Male</td>\n",
       "      <td>1990.0</td>\n",
       "    </tr>\n",
       "    <tr>\n",
       "      <th>3</th>\n",
       "      <td>22178532</td>\n",
       "      <td>2019-04-01 00:13:01</td>\n",
       "      <td>2019-04-01 00:18:58</td>\n",
       "      <td>4151</td>\n",
       "      <td>357.0</td>\n",
       "      <td>26</td>\n",
       "      <td>McClurg Ct &amp; Illinois St</td>\n",
       "      <td>133</td>\n",
       "      <td>Kingsbury St &amp; Kinzie St</td>\n",
       "      <td>Subscriber</td>\n",
       "      <td>Male</td>\n",
       "      <td>1993.0</td>\n",
       "    </tr>\n",
       "    <tr>\n",
       "      <th>4</th>\n",
       "      <td>22178533</td>\n",
       "      <td>2019-04-01 00:19:26</td>\n",
       "      <td>2019-04-01 00:36:13</td>\n",
       "      <td>3270</td>\n",
       "      <td>1,007.0</td>\n",
       "      <td>202</td>\n",
       "      <td>Halsted St &amp; 18th St</td>\n",
       "      <td>129</td>\n",
       "      <td>Blue Island Ave &amp; 18th St</td>\n",
       "      <td>Subscriber</td>\n",
       "      <td>Male</td>\n",
       "      <td>1992.0</td>\n",
       "    </tr>\n",
       "  </tbody>\n",
       "</table>\n",
       "</div>"
      ],
      "text/plain": [
       "   01 - Rental Details Rental ID 01 - Rental Details Local Start Time  \\\n",
       "0                       22178529                  2019-04-01 00:02:22   \n",
       "1                       22178530                  2019-04-01 00:03:02   \n",
       "2                       22178531                  2019-04-01 00:11:07   \n",
       "3                       22178532                  2019-04-01 00:13:01   \n",
       "4                       22178533                  2019-04-01 00:19:26   \n",
       "\n",
       "  01 - Rental Details Local End Time  01 - Rental Details Bike ID  \\\n",
       "0                2019-04-01 00:09:48                         6251   \n",
       "1                2019-04-01 00:20:30                         6226   \n",
       "2                2019-04-01 00:15:19                         5649   \n",
       "3                2019-04-01 00:18:58                         4151   \n",
       "4                2019-04-01 00:36:13                         3270   \n",
       "\n",
       "  01 - Rental Details Duration In Seconds Uncapped  \\\n",
       "0                                            446.0   \n",
       "1                                          1,048.0   \n",
       "2                                            252.0   \n",
       "3                                            357.0   \n",
       "4                                          1,007.0   \n",
       "\n",
       "   03 - Rental Start Station ID 03 - Rental Start Station Name  \\\n",
       "0                            81             Daley Center Plaza   \n",
       "1                           317            Wood St & Taylor St   \n",
       "2                           283      LaSalle St & Jackson Blvd   \n",
       "3                            26       McClurg Ct & Illinois St   \n",
       "4                           202           Halsted St & 18th St   \n",
       "\n",
       "   02 - Rental End Station ID 02 - Rental End Station Name   User Type  \\\n",
       "0                          56    Desplaines St & Kinzie St  Subscriber   \n",
       "1                          59    Wabash Ave & Roosevelt Rd  Subscriber   \n",
       "2                         174        Canal St & Madison St  Subscriber   \n",
       "3                         133     Kingsbury St & Kinzie St  Subscriber   \n",
       "4                         129    Blue Island Ave & 18th St  Subscriber   \n",
       "\n",
       "  Member Gender  05 - Member Details Member Birthday Year  \n",
       "0          Male                                    1975.0  \n",
       "1        Female                                    1984.0  \n",
       "2          Male                                    1990.0  \n",
       "3          Male                                    1993.0  \n",
       "4          Male                                    1992.0  "
      ]
     },
     "execution_count": 6,
     "metadata": {},
     "output_type": "execute_result"
    }
   ],
   "source": [
    "df_q2.head()"
   ]
  },
  {
   "cell_type": "code",
   "execution_count": 7,
   "id": "f98aee0c",
   "metadata": {},
   "outputs": [
    {
     "data": {
      "text/html": [
       "<div>\n",
       "<style scoped>\n",
       "    .dataframe tbody tr th:only-of-type {\n",
       "        vertical-align: middle;\n",
       "    }\n",
       "\n",
       "    .dataframe tbody tr th {\n",
       "        vertical-align: top;\n",
       "    }\n",
       "\n",
       "    .dataframe thead th {\n",
       "        text-align: right;\n",
       "    }\n",
       "</style>\n",
       "<table border=\"1\" class=\"dataframe\">\n",
       "  <thead>\n",
       "    <tr style=\"text-align: right;\">\n",
       "      <th></th>\n",
       "      <th>trip_id</th>\n",
       "      <th>start_time</th>\n",
       "      <th>end_time</th>\n",
       "      <th>bikeid</th>\n",
       "      <th>tripduration</th>\n",
       "      <th>from_station_id</th>\n",
       "      <th>from_station_name</th>\n",
       "      <th>to_station_id</th>\n",
       "      <th>to_station_name</th>\n",
       "      <th>usertype</th>\n",
       "      <th>gender</th>\n",
       "      <th>birthyear</th>\n",
       "    </tr>\n",
       "  </thead>\n",
       "  <tbody>\n",
       "    <tr>\n",
       "      <th>0</th>\n",
       "      <td>23479388</td>\n",
       "      <td>2019-07-01 00:00:27</td>\n",
       "      <td>2019-07-01 00:20:41</td>\n",
       "      <td>3591</td>\n",
       "      <td>1,214.0</td>\n",
       "      <td>117</td>\n",
       "      <td>Wilton Ave &amp; Belmont Ave</td>\n",
       "      <td>497</td>\n",
       "      <td>Kimball Ave &amp; Belmont Ave</td>\n",
       "      <td>Subscriber</td>\n",
       "      <td>Male</td>\n",
       "      <td>1992.0</td>\n",
       "    </tr>\n",
       "    <tr>\n",
       "      <th>1</th>\n",
       "      <td>23479389</td>\n",
       "      <td>2019-07-01 00:01:16</td>\n",
       "      <td>2019-07-01 00:18:44</td>\n",
       "      <td>5353</td>\n",
       "      <td>1,048.0</td>\n",
       "      <td>381</td>\n",
       "      <td>Western Ave &amp; Monroe St</td>\n",
       "      <td>203</td>\n",
       "      <td>Western Ave &amp; 21st St</td>\n",
       "      <td>Customer</td>\n",
       "      <td>NaN</td>\n",
       "      <td>NaN</td>\n",
       "    </tr>\n",
       "    <tr>\n",
       "      <th>2</th>\n",
       "      <td>23479390</td>\n",
       "      <td>2019-07-01 00:01:48</td>\n",
       "      <td>2019-07-01 00:27:42</td>\n",
       "      <td>6180</td>\n",
       "      <td>1,554.0</td>\n",
       "      <td>313</td>\n",
       "      <td>Lakeview Ave &amp; Fullerton Pkwy</td>\n",
       "      <td>144</td>\n",
       "      <td>Larrabee St &amp; Webster Ave</td>\n",
       "      <td>Customer</td>\n",
       "      <td>NaN</td>\n",
       "      <td>NaN</td>\n",
       "    </tr>\n",
       "    <tr>\n",
       "      <th>3</th>\n",
       "      <td>23479391</td>\n",
       "      <td>2019-07-01 00:02:07</td>\n",
       "      <td>2019-07-01 00:27:10</td>\n",
       "      <td>5540</td>\n",
       "      <td>1,503.0</td>\n",
       "      <td>313</td>\n",
       "      <td>Lakeview Ave &amp; Fullerton Pkwy</td>\n",
       "      <td>144</td>\n",
       "      <td>Larrabee St &amp; Webster Ave</td>\n",
       "      <td>Customer</td>\n",
       "      <td>NaN</td>\n",
       "      <td>NaN</td>\n",
       "    </tr>\n",
       "    <tr>\n",
       "      <th>4</th>\n",
       "      <td>23479392</td>\n",
       "      <td>2019-07-01 00:02:13</td>\n",
       "      <td>2019-07-01 00:22:26</td>\n",
       "      <td>6014</td>\n",
       "      <td>1,213.0</td>\n",
       "      <td>168</td>\n",
       "      <td>Michigan Ave &amp; 14th St</td>\n",
       "      <td>62</td>\n",
       "      <td>McCormick Place</td>\n",
       "      <td>Customer</td>\n",
       "      <td>NaN</td>\n",
       "      <td>NaN</td>\n",
       "    </tr>\n",
       "  </tbody>\n",
       "</table>\n",
       "</div>"
      ],
      "text/plain": [
       "    trip_id           start_time             end_time  bikeid tripduration  \\\n",
       "0  23479388  2019-07-01 00:00:27  2019-07-01 00:20:41    3591      1,214.0   \n",
       "1  23479389  2019-07-01 00:01:16  2019-07-01 00:18:44    5353      1,048.0   \n",
       "2  23479390  2019-07-01 00:01:48  2019-07-01 00:27:42    6180      1,554.0   \n",
       "3  23479391  2019-07-01 00:02:07  2019-07-01 00:27:10    5540      1,503.0   \n",
       "4  23479392  2019-07-01 00:02:13  2019-07-01 00:22:26    6014      1,213.0   \n",
       "\n",
       "   from_station_id              from_station_name  to_station_id  \\\n",
       "0              117       Wilton Ave & Belmont Ave            497   \n",
       "1              381        Western Ave & Monroe St            203   \n",
       "2              313  Lakeview Ave & Fullerton Pkwy            144   \n",
       "3              313  Lakeview Ave & Fullerton Pkwy            144   \n",
       "4              168         Michigan Ave & 14th St             62   \n",
       "\n",
       "             to_station_name    usertype gender  birthyear  \n",
       "0  Kimball Ave & Belmont Ave  Subscriber   Male     1992.0  \n",
       "1      Western Ave & 21st St    Customer    NaN        NaN  \n",
       "2  Larrabee St & Webster Ave    Customer    NaN        NaN  \n",
       "3  Larrabee St & Webster Ave    Customer    NaN        NaN  \n",
       "4            McCormick Place    Customer    NaN        NaN  "
      ]
     },
     "execution_count": 7,
     "metadata": {},
     "output_type": "execute_result"
    }
   ],
   "source": [
    "df_q3.head()"
   ]
  },
  {
   "cell_type": "code",
   "execution_count": 8,
   "id": "434fef49",
   "metadata": {},
   "outputs": [
    {
     "data": {
      "text/html": [
       "<div>\n",
       "<style scoped>\n",
       "    .dataframe tbody tr th:only-of-type {\n",
       "        vertical-align: middle;\n",
       "    }\n",
       "\n",
       "    .dataframe tbody tr th {\n",
       "        vertical-align: top;\n",
       "    }\n",
       "\n",
       "    .dataframe thead th {\n",
       "        text-align: right;\n",
       "    }\n",
       "</style>\n",
       "<table border=\"1\" class=\"dataframe\">\n",
       "  <thead>\n",
       "    <tr style=\"text-align: right;\">\n",
       "      <th></th>\n",
       "      <th>trip_id</th>\n",
       "      <th>start_time</th>\n",
       "      <th>end_time</th>\n",
       "      <th>bikeid</th>\n",
       "      <th>tripduration</th>\n",
       "      <th>from_station_id</th>\n",
       "      <th>from_station_name</th>\n",
       "      <th>to_station_id</th>\n",
       "      <th>to_station_name</th>\n",
       "      <th>usertype</th>\n",
       "      <th>gender</th>\n",
       "      <th>birthyear</th>\n",
       "    </tr>\n",
       "  </thead>\n",
       "  <tbody>\n",
       "    <tr>\n",
       "      <th>0</th>\n",
       "      <td>25223640</td>\n",
       "      <td>2019-10-01 00:01:39</td>\n",
       "      <td>2019-10-01 00:17:20</td>\n",
       "      <td>2215</td>\n",
       "      <td>940.0</td>\n",
       "      <td>20</td>\n",
       "      <td>Sheffield Ave &amp; Kingsbury St</td>\n",
       "      <td>309</td>\n",
       "      <td>Leavitt St &amp; Armitage Ave</td>\n",
       "      <td>Subscriber</td>\n",
       "      <td>Male</td>\n",
       "      <td>1987.0</td>\n",
       "    </tr>\n",
       "    <tr>\n",
       "      <th>1</th>\n",
       "      <td>25223641</td>\n",
       "      <td>2019-10-01 00:02:16</td>\n",
       "      <td>2019-10-01 00:06:34</td>\n",
       "      <td>6328</td>\n",
       "      <td>258.0</td>\n",
       "      <td>19</td>\n",
       "      <td>Throop (Loomis) St &amp; Taylor St</td>\n",
       "      <td>241</td>\n",
       "      <td>Morgan St &amp; Polk St</td>\n",
       "      <td>Subscriber</td>\n",
       "      <td>Male</td>\n",
       "      <td>1998.0</td>\n",
       "    </tr>\n",
       "    <tr>\n",
       "      <th>2</th>\n",
       "      <td>25223642</td>\n",
       "      <td>2019-10-01 00:04:32</td>\n",
       "      <td>2019-10-01 00:18:43</td>\n",
       "      <td>3003</td>\n",
       "      <td>850.0</td>\n",
       "      <td>84</td>\n",
       "      <td>Milwaukee Ave &amp; Grand Ave</td>\n",
       "      <td>199</td>\n",
       "      <td>Wabash Ave &amp; Grand Ave</td>\n",
       "      <td>Subscriber</td>\n",
       "      <td>Female</td>\n",
       "      <td>1991.0</td>\n",
       "    </tr>\n",
       "    <tr>\n",
       "      <th>3</th>\n",
       "      <td>25223643</td>\n",
       "      <td>2019-10-01 00:04:32</td>\n",
       "      <td>2019-10-01 00:43:43</td>\n",
       "      <td>3275</td>\n",
       "      <td>2,350.0</td>\n",
       "      <td>313</td>\n",
       "      <td>Lakeview Ave &amp; Fullerton Pkwy</td>\n",
       "      <td>290</td>\n",
       "      <td>Kedzie Ave &amp; Palmer Ct</td>\n",
       "      <td>Subscriber</td>\n",
       "      <td>Male</td>\n",
       "      <td>1990.0</td>\n",
       "    </tr>\n",
       "    <tr>\n",
       "      <th>4</th>\n",
       "      <td>25223644</td>\n",
       "      <td>2019-10-01 00:04:34</td>\n",
       "      <td>2019-10-01 00:35:42</td>\n",
       "      <td>5294</td>\n",
       "      <td>1,867.0</td>\n",
       "      <td>210</td>\n",
       "      <td>Ashland Ave &amp; Division St</td>\n",
       "      <td>382</td>\n",
       "      <td>Western Ave &amp; Congress Pkwy</td>\n",
       "      <td>Subscriber</td>\n",
       "      <td>Male</td>\n",
       "      <td>1987.0</td>\n",
       "    </tr>\n",
       "  </tbody>\n",
       "</table>\n",
       "</div>"
      ],
      "text/plain": [
       "    trip_id           start_time             end_time  bikeid tripduration  \\\n",
       "0  25223640  2019-10-01 00:01:39  2019-10-01 00:17:20    2215        940.0   \n",
       "1  25223641  2019-10-01 00:02:16  2019-10-01 00:06:34    6328        258.0   \n",
       "2  25223642  2019-10-01 00:04:32  2019-10-01 00:18:43    3003        850.0   \n",
       "3  25223643  2019-10-01 00:04:32  2019-10-01 00:43:43    3275      2,350.0   \n",
       "4  25223644  2019-10-01 00:04:34  2019-10-01 00:35:42    5294      1,867.0   \n",
       "\n",
       "   from_station_id               from_station_name  to_station_id  \\\n",
       "0               20    Sheffield Ave & Kingsbury St            309   \n",
       "1               19  Throop (Loomis) St & Taylor St            241   \n",
       "2               84       Milwaukee Ave & Grand Ave            199   \n",
       "3              313   Lakeview Ave & Fullerton Pkwy            290   \n",
       "4              210       Ashland Ave & Division St            382   \n",
       "\n",
       "               to_station_name    usertype  gender  birthyear  \n",
       "0    Leavitt St & Armitage Ave  Subscriber    Male     1987.0  \n",
       "1          Morgan St & Polk St  Subscriber    Male     1998.0  \n",
       "2       Wabash Ave & Grand Ave  Subscriber  Female     1991.0  \n",
       "3       Kedzie Ave & Palmer Ct  Subscriber    Male     1990.0  \n",
       "4  Western Ave & Congress Pkwy  Subscriber    Male     1987.0  "
      ]
     },
     "execution_count": 8,
     "metadata": {},
     "output_type": "execute_result"
    }
   ],
   "source": [
    "df_q4.head()"
   ]
  },
  {
   "cell_type": "code",
   "execution_count": 9,
   "id": "62e2dea4",
   "metadata": {},
   "outputs": [],
   "source": [
    "# renaming dataframes columns for consistency\n",
    "columns = ['trip_id','start_time','end_time','bike_id','duration',\n",
    "           'start_station_id','start_station_name','end_station_id','end_station_name','user_type','gender','birth_year']\n",
    "df_q1.columns = columns\n",
    "df_q2.columns = columns\n",
    "df_q3.columns = columns\n",
    "df_q4.columns = columns"
   ]
  },
  {
   "cell_type": "code",
   "execution_count": 10,
   "id": "858acce9",
   "metadata": {},
   "outputs": [],
   "source": [
    "# checking for nulls and duplicates"
   ]
  },
  {
   "cell_type": "code",
   "execution_count": 11,
   "id": "c6627aa3",
   "metadata": {},
   "outputs": [
    {
     "data": {
      "text/plain": [
       "(37734, 366507, 565444, 128272)"
      ]
     },
     "execution_count": 11,
     "metadata": {},
     "output_type": "execute_result"
    }
   ],
   "source": [
    "df_q1.isna().sum().sum(), df_q2.isna().sum().sum(), df_q3.isna().sum().sum(), df_q4.isna().sum().sum()"
   ]
  },
  {
   "cell_type": "code",
   "execution_count": 12,
   "id": "69e5bd3a",
   "metadata": {},
   "outputs": [
    {
     "data": {
      "text/plain": [
       "trip_id                   0\n",
       "start_time                0\n",
       "end_time                  0\n",
       "bike_id                   0\n",
       "duration                  0\n",
       "start_station_id          0\n",
       "start_station_name        0\n",
       "end_station_id            0\n",
       "end_station_name          0\n",
       "user_type                 0\n",
       "gender                19711\n",
       "birth_year            18023\n",
       "dtype: int64"
      ]
     },
     "execution_count": 12,
     "metadata": {},
     "output_type": "execute_result"
    }
   ],
   "source": [
    "df_q1.isna().sum()"
   ]
  },
  {
   "cell_type": "code",
   "execution_count": 13,
   "id": "ca030fcb",
   "metadata": {},
   "outputs": [
    {
     "data": {
      "text/plain": [
       "trip_id                    0\n",
       "start_time                 0\n",
       "end_time                   0\n",
       "bike_id                    0\n",
       "duration                   0\n",
       "start_station_id           0\n",
       "start_station_name         0\n",
       "end_station_id             0\n",
       "end_station_name           0\n",
       "user_type                  0\n",
       "gender                185554\n",
       "birth_year            180953\n",
       "dtype: int64"
      ]
     },
     "execution_count": 13,
     "metadata": {},
     "output_type": "execute_result"
    }
   ],
   "source": [
    "df_q2.isna().sum()"
   ]
  },
  {
   "cell_type": "code",
   "execution_count": 14,
   "id": "7bea14e6",
   "metadata": {},
   "outputs": [
    {
     "data": {
      "text/plain": [
       "trip_id                    0\n",
       "start_time                 0\n",
       "end_time                   0\n",
       "bike_id                    0\n",
       "duration                   0\n",
       "start_station_id           0\n",
       "start_station_name         0\n",
       "end_station_id             0\n",
       "end_station_name           0\n",
       "user_type                  0\n",
       "gender                287350\n",
       "birth_year            278094\n",
       "dtype: int64"
      ]
     },
     "execution_count": 14,
     "metadata": {},
     "output_type": "execute_result"
    }
   ],
   "source": [
    "df_q3.isna().sum()"
   ]
  },
  {
   "cell_type": "code",
   "execution_count": 15,
   "id": "a09ba7cb",
   "metadata": {},
   "outputs": [
    {
     "data": {
      "text/plain": [
       "trip_id                   0\n",
       "start_time                0\n",
       "end_time                  0\n",
       "bike_id                   0\n",
       "duration                  0\n",
       "start_station_id          0\n",
       "start_station_name        0\n",
       "end_station_id            0\n",
       "end_station_name          0\n",
       "user_type                 0\n",
       "gender                66591\n",
       "birth_year            61681\n",
       "dtype: int64"
      ]
     },
     "execution_count": 15,
     "metadata": {},
     "output_type": "execute_result"
    }
   ],
   "source": [
    "df_q4.isna().sum()"
   ]
  },
  {
   "cell_type": "code",
   "execution_count": 16,
   "id": "b39a861c",
   "metadata": {},
   "outputs": [
    {
     "data": {
      "text/plain": [
       "(365069, 1108163, 1640718, 704054)"
      ]
     },
     "execution_count": 16,
     "metadata": {},
     "output_type": "execute_result"
    }
   ],
   "source": [
    "len(df_q1), len(df_q2), len(df_q3), len(df_q4)"
   ]
  },
  {
   "cell_type": "code",
   "execution_count": 17,
   "id": "04dd6840",
   "metadata": {},
   "outputs": [
    {
     "data": {
      "text/plain": [
       "(345357, 922608, 1353368, 637463)"
      ]
     },
     "execution_count": 17,
     "metadata": {},
     "output_type": "execute_result"
    }
   ],
   "source": [
    "len(df_q1.dropna()), len(df_q2.dropna()), len(df_q3.dropna()), len(df_q4.dropna())"
   ]
  },
  {
   "cell_type": "code",
   "execution_count": 18,
   "id": "73914613",
   "metadata": {},
   "outputs": [
    {
     "data": {
      "text/plain": [
       "(None, None, None, None)"
      ]
     },
     "execution_count": 18,
     "metadata": {},
     "output_type": "execute_result"
    }
   ],
   "source": [
    "df_q1.dropna(inplace=True), df_q2.dropna(inplace=True), df_q3.dropna(inplace=True), df_q4.dropna(inplace=True)"
   ]
  },
  {
   "cell_type": "code",
   "execution_count": 20,
   "id": "59c64f96",
   "metadata": {},
   "outputs": [],
   "source": [
    "# merge all dataframes\n",
    "df = pd.concat([df_q1,df_q2,df_q3,df_q4])"
   ]
  },
  {
   "cell_type": "code",
   "execution_count": 21,
   "id": "964b7a21",
   "metadata": {},
   "outputs": [
    {
     "name": "stdout",
     "output_type": "stream",
     "text": [
      "dataframe length before removing duplicates is 3258796\n",
      "dataframe length after removing duplicates is 3258796\n"
     ]
    }
   ],
   "source": [
    "# droping duplicates\n",
    "print(\"dataframe length before removing duplicates is {}\".format(len(df)))\n",
    "df.drop_duplicates(inplace=True)\n",
    "print(\"dataframe length after removing duplicates is {}\".format(len(df)))"
   ]
  },
  {
   "cell_type": "code",
   "execution_count": 23,
   "id": "7bca584b",
   "metadata": {},
   "outputs": [],
   "source": [
    "# create a column for week of the day \n",
    "df['start_time'] = pd.to_datetime(df['start_time']) #convert to datetime format\n",
    "df['end_time'] = pd.to_datetime(df['end_time']) #convert to datetime format\n",
    "df['day_of_week'] = df['start_time'].dt.day_name()"
   ]
  },
  {
   "cell_type": "code",
   "execution_count": 24,
   "id": "9d88af09",
   "metadata": {},
   "outputs": [
    {
     "data": {
      "text/html": [
       "<div>\n",
       "<style scoped>\n",
       "    .dataframe tbody tr th:only-of-type {\n",
       "        vertical-align: middle;\n",
       "    }\n",
       "\n",
       "    .dataframe tbody tr th {\n",
       "        vertical-align: top;\n",
       "    }\n",
       "\n",
       "    .dataframe thead th {\n",
       "        text-align: right;\n",
       "    }\n",
       "</style>\n",
       "<table border=\"1\" class=\"dataframe\">\n",
       "  <thead>\n",
       "    <tr style=\"text-align: right;\">\n",
       "      <th></th>\n",
       "      <th>trip_id</th>\n",
       "      <th>start_time</th>\n",
       "      <th>end_time</th>\n",
       "      <th>bike_id</th>\n",
       "      <th>duration</th>\n",
       "      <th>start_station_id</th>\n",
       "      <th>start_station_name</th>\n",
       "      <th>end_station_id</th>\n",
       "      <th>end_station_name</th>\n",
       "      <th>user_type</th>\n",
       "      <th>gender</th>\n",
       "      <th>birth_year</th>\n",
       "      <th>day_of_week</th>\n",
       "    </tr>\n",
       "  </thead>\n",
       "  <tbody>\n",
       "    <tr>\n",
       "      <th>0</th>\n",
       "      <td>21742443</td>\n",
       "      <td>2019-01-01 00:04:37</td>\n",
       "      <td>2019-01-01 00:11:07</td>\n",
       "      <td>2167</td>\n",
       "      <td>390.0</td>\n",
       "      <td>199</td>\n",
       "      <td>Wabash Ave &amp; Grand Ave</td>\n",
       "      <td>84</td>\n",
       "      <td>Milwaukee Ave &amp; Grand Ave</td>\n",
       "      <td>Subscriber</td>\n",
       "      <td>Male</td>\n",
       "      <td>1989.0</td>\n",
       "      <td>Tuesday</td>\n",
       "    </tr>\n",
       "    <tr>\n",
       "      <th>1</th>\n",
       "      <td>21742444</td>\n",
       "      <td>2019-01-01 00:08:13</td>\n",
       "      <td>2019-01-01 00:15:34</td>\n",
       "      <td>4386</td>\n",
       "      <td>441.0</td>\n",
       "      <td>44</td>\n",
       "      <td>State St &amp; Randolph St</td>\n",
       "      <td>624</td>\n",
       "      <td>Dearborn St &amp; Van Buren St (*)</td>\n",
       "      <td>Subscriber</td>\n",
       "      <td>Female</td>\n",
       "      <td>1990.0</td>\n",
       "      <td>Tuesday</td>\n",
       "    </tr>\n",
       "    <tr>\n",
       "      <th>2</th>\n",
       "      <td>21742445</td>\n",
       "      <td>2019-01-01 00:13:23</td>\n",
       "      <td>2019-01-01 00:27:12</td>\n",
       "      <td>1524</td>\n",
       "      <td>829.0</td>\n",
       "      <td>15</td>\n",
       "      <td>Racine Ave &amp; 18th St</td>\n",
       "      <td>644</td>\n",
       "      <td>Western Ave &amp; Fillmore St (*)</td>\n",
       "      <td>Subscriber</td>\n",
       "      <td>Female</td>\n",
       "      <td>1994.0</td>\n",
       "      <td>Tuesday</td>\n",
       "    </tr>\n",
       "    <tr>\n",
       "      <th>3</th>\n",
       "      <td>21742446</td>\n",
       "      <td>2019-01-01 00:13:45</td>\n",
       "      <td>2019-01-01 00:43:28</td>\n",
       "      <td>252</td>\n",
       "      <td>1,783.0</td>\n",
       "      <td>123</td>\n",
       "      <td>California Ave &amp; Milwaukee Ave</td>\n",
       "      <td>176</td>\n",
       "      <td>Clark St &amp; Elm St</td>\n",
       "      <td>Subscriber</td>\n",
       "      <td>Male</td>\n",
       "      <td>1993.0</td>\n",
       "      <td>Tuesday</td>\n",
       "    </tr>\n",
       "    <tr>\n",
       "      <th>4</th>\n",
       "      <td>21742447</td>\n",
       "      <td>2019-01-01 00:14:52</td>\n",
       "      <td>2019-01-01 00:20:56</td>\n",
       "      <td>1170</td>\n",
       "      <td>364.0</td>\n",
       "      <td>173</td>\n",
       "      <td>Mies van der Rohe Way &amp; Chicago Ave</td>\n",
       "      <td>35</td>\n",
       "      <td>Streeter Dr &amp; Grand Ave</td>\n",
       "      <td>Subscriber</td>\n",
       "      <td>Male</td>\n",
       "      <td>1994.0</td>\n",
       "      <td>Tuesday</td>\n",
       "    </tr>\n",
       "  </tbody>\n",
       "</table>\n",
       "</div>"
      ],
      "text/plain": [
       "    trip_id          start_time            end_time  bike_id duration  \\\n",
       "0  21742443 2019-01-01 00:04:37 2019-01-01 00:11:07     2167    390.0   \n",
       "1  21742444 2019-01-01 00:08:13 2019-01-01 00:15:34     4386    441.0   \n",
       "2  21742445 2019-01-01 00:13:23 2019-01-01 00:27:12     1524    829.0   \n",
       "3  21742446 2019-01-01 00:13:45 2019-01-01 00:43:28      252  1,783.0   \n",
       "4  21742447 2019-01-01 00:14:52 2019-01-01 00:20:56     1170    364.0   \n",
       "\n",
       "   start_station_id                   start_station_name  end_station_id  \\\n",
       "0               199               Wabash Ave & Grand Ave              84   \n",
       "1                44               State St & Randolph St             624   \n",
       "2                15                 Racine Ave & 18th St             644   \n",
       "3               123       California Ave & Milwaukee Ave             176   \n",
       "4               173  Mies van der Rohe Way & Chicago Ave              35   \n",
       "\n",
       "                 end_station_name   user_type  gender  birth_year day_of_week  \n",
       "0       Milwaukee Ave & Grand Ave  Subscriber    Male      1989.0     Tuesday  \n",
       "1  Dearborn St & Van Buren St (*)  Subscriber  Female      1990.0     Tuesday  \n",
       "2   Western Ave & Fillmore St (*)  Subscriber  Female      1994.0     Tuesday  \n",
       "3               Clark St & Elm St  Subscriber    Male      1993.0     Tuesday  \n",
       "4         Streeter Dr & Grand Ave  Subscriber    Male      1994.0     Tuesday  "
      ]
     },
     "execution_count": 24,
     "metadata": {},
     "output_type": "execute_result"
    }
   ],
   "source": [
    "df.head()"
   ]
  },
  {
   "cell_type": "code",
   "execution_count": 26,
   "id": "38bdb9a1",
   "metadata": {},
   "outputs": [
    {
     "data": {
      "text/plain": [
       "trip_id               8\n",
       "start_time            8\n",
       "end_time              8\n",
       "bike_id               8\n",
       "duration              8\n",
       "start_station_id      8\n",
       "start_station_name    8\n",
       "end_station_id        8\n",
       "end_station_name      8\n",
       "user_type             8\n",
       "gender                8\n",
       "birth_year            8\n",
       "day_of_week           8\n",
       "dtype: int64"
      ]
     },
     "execution_count": 26,
     "metadata": {},
     "output_type": "execute_result"
    }
   ],
   "source": [
    "# check for inconsistencies in the start and end time\n",
    "df[df['start_time']>df['end_time']].count()"
   ]
  },
  {
   "cell_type": "code",
   "execution_count": 27,
   "id": "8442f2e8",
   "metadata": {},
   "outputs": [
    {
     "data": {
      "text/plain": [
       "trip_id               0\n",
       "start_time            0\n",
       "end_time              0\n",
       "bike_id               0\n",
       "duration              0\n",
       "start_station_id      0\n",
       "start_station_name    0\n",
       "end_station_id        0\n",
       "end_station_name      0\n",
       "user_type             0\n",
       "gender                0\n",
       "birth_year            0\n",
       "day_of_week           0\n",
       "dtype: int64"
      ]
     },
     "execution_count": 27,
     "metadata": {},
     "output_type": "execute_result"
    }
   ],
   "source": [
    "df = df[df['start_time']<df['end_time']]\n",
    "df[df['start_time']>df['end_time']].count()"
   ]
  },
  {
   "cell_type": "code",
   "execution_count": 30,
   "id": "1519dd6d",
   "metadata": {},
   "outputs": [
    {
     "data": {
      "text/plain": [
       "trip_id               0\n",
       "start_time            0\n",
       "end_time              0\n",
       "bike_id               0\n",
       "duration              0\n",
       "start_station_id      0\n",
       "start_station_name    0\n",
       "end_station_id        0\n",
       "end_station_name      0\n",
       "user_type             0\n",
       "gender                0\n",
       "birth_year            0\n",
       "day_of_week           0\n",
       "dtype: int64"
      ]
     },
     "execution_count": 30,
     "metadata": {},
     "output_type": "execute_result"
    }
   ],
   "source": [
    "# check for inconsistencies in trip duration\n",
    "df['duration'] = df['duration'].str.replace(',','') #remove ',' from duration column\n",
    "df['duration'] = df['duration'].astype(float) #cast duration column to float\n",
    "df[df['duration']<=0].count()"
   ]
  },
  {
   "cell_type": "code",
   "execution_count": 31,
   "id": "faf3d225",
   "metadata": {},
   "outputs": [
    {
     "name": "stdout",
     "output_type": "stream",
     "text": [
      "<class 'pandas.core.frame.DataFrame'>\n",
      "Int64Index: 3258788 entries, 0 to 704053\n",
      "Data columns (total 13 columns):\n",
      " #   Column              Dtype         \n",
      "---  ------              -----         \n",
      " 0   trip_id             int64         \n",
      " 1   start_time          datetime64[ns]\n",
      " 2   end_time            datetime64[ns]\n",
      " 3   bike_id             int64         \n",
      " 4   duration            float64       \n",
      " 5   start_station_id    int64         \n",
      " 6   start_station_name  object        \n",
      " 7   end_station_id      int64         \n",
      " 8   end_station_name    object        \n",
      " 9   user_type           object        \n",
      " 10  gender              object        \n",
      " 11  birth_year          float64       \n",
      " 12  day_of_week         object        \n",
      "dtypes: datetime64[ns](2), float64(2), int64(4), object(5)\n",
      "memory usage: 348.1+ MB\n"
     ]
    }
   ],
   "source": [
    "# check for inconsistencies in datatypes\n",
    "df.info()"
   ]
  },
  {
   "cell_type": "code",
   "execution_count": 33,
   "id": "b31cbce7",
   "metadata": {},
   "outputs": [
    {
     "data": {
      "text/plain": [
       "(Male      2400812\n",
       " Female     857976\n",
       " Name: gender, dtype: int64,\n",
       " Subscriber    2914609\n",
       " Customer       344179\n",
       " Name: user_type, dtype: int64)"
      ]
     },
     "execution_count": 33,
     "metadata": {},
     "output_type": "execute_result"
    }
   ],
   "source": [
    "# check for inconsistent values in categorical columns\n",
    "df['gender'].value_counts(), df['user_type'].value_counts()"
   ]
  },
  {
   "cell_type": "code",
   "execution_count": 35,
   "id": "f87cb239",
   "metadata": {},
   "outputs": [
    {
     "data": {
      "text/plain": [
       "count    3.258788e+06\n",
       "mean     1.984083e+03\n",
       "std      1.085970e+01\n",
       "min      1.759000e+03\n",
       "25%      1.979000e+03\n",
       "50%      1.987000e+03\n",
       "75%      1.992000e+03\n",
       "max      2.014000e+03\n",
       "Name: birth_year, dtype: float64"
      ]
     },
     "execution_count": 35,
     "metadata": {},
     "output_type": "execute_result"
    }
   ],
   "source": [
    "# check for inconsistent values in the age column\n",
    "df['birth_year'].describe()"
   ]
  },
  {
   "cell_type": "code",
   "execution_count": 38,
   "id": "d8afa670",
   "metadata": {},
   "outputs": [
    {
     "data": {
      "text/plain": [
       "<AxesSubplot:>"
      ]
     },
     "execution_count": 38,
     "metadata": {},
     "output_type": "execute_result"
    },
    {
     "data": {
      "image/png": "[encoded data removed]",
      "text/plain": [
       "<Figure size 432x288 with 1 Axes>"
      ]
     },
     "metadata": {
      "needs_background": "light"
     },
     "output_type": "display_data"
    }
   ],
   "source": [
    "# show age distribution\n",
    "df['birth_year'].plot(kind='box')"
   ]
  },
  {
   "cell_type": "code",
   "execution_count": 44,
   "id": "47ac0c5e",
   "metadata": {},
   "outputs": [
    {
     "data": {
      "text/plain": [
       "(trip_id               738\n",
       " start_time            738\n",
       " end_time              738\n",
       " bike_id               738\n",
       " duration              738\n",
       " start_station_id      738\n",
       " start_station_name    738\n",
       " end_station_id        738\n",
       " end_station_name      738\n",
       " user_type             738\n",
       " gender                738\n",
       " birth_year            738\n",
       " day_of_week           738\n",
       " dtype: int64,\n",
       " trip_id               5\n",
       " start_time            5\n",
       " end_time              5\n",
       " bike_id               5\n",
       " duration              5\n",
       " start_station_id      5\n",
       " start_station_name    5\n",
       " end_station_id        5\n",
       " end_station_name      5\n",
       " user_type             5\n",
       " gender                5\n",
       " birth_year            5\n",
       " day_of_week           5\n",
       " dtype: int64)"
      ]
     },
     "execution_count": 44,
     "metadata": {},
     "output_type": "execute_result"
    }
   ],
   "source": [
    "df[df['birth_year']<1919].count(), df[df['birth_year']>2003].count()"
   ]
  },
  {
   "cell_type": "code",
   "execution_count": 45,
   "id": "6619487b",
   "metadata": {},
   "outputs": [
    {
     "data": {
      "text/plain": [
       "(trip_id               0\n",
       " start_time            0\n",
       " end_time              0\n",
       " bike_id               0\n",
       " duration              0\n",
       " start_station_id      0\n",
       " start_station_name    0\n",
       " end_station_id        0\n",
       " end_station_name      0\n",
       " user_type             0\n",
       " gender                0\n",
       " birth_year            0\n",
       " day_of_week           0\n",
       " dtype: int64,\n",
       " trip_id               0\n",
       " start_time            0\n",
       " end_time              0\n",
       " bike_id               0\n",
       " duration              0\n",
       " start_station_id      0\n",
       " start_station_name    0\n",
       " end_station_id        0\n",
       " end_station_name      0\n",
       " user_type             0\n",
       " gender                0\n",
       " birth_year            0\n",
       " day_of_week           0\n",
       " dtype: int64)"
      ]
     },
     "execution_count": 45,
     "metadata": {},
     "output_type": "execute_result"
    }
   ],
   "source": [
    "df = df[df['birth_year'] >= 1919] #select records with maximum 100 years\n",
    "df = df[df['birth_year'] <= 2003] #select records with minimum 16 years\n",
    "df[df['birth_year']<1919].count(), df[df['birth_year']>2003].count()"
   ]
  },
  {
   "cell_type": "code",
   "execution_count": 46,
   "id": "5702b6ed",
   "metadata": {},
   "outputs": [],
   "source": [
    "# save dataframe into a csv for analysis\n",
    "df.to_csv('final_data.csv',index=False)"
   ]
  }
 ],
 "metadata": {
  "kernelspec": {
   "display_name": "Python 3",
   "language": "python",
   "name": "python3"
  },
  "language_info": {
   "codemirror_mode": {
    "name": "ipython",
    "version": 3
   },
   "file_extension": ".py",
   "mimetype": "text/x-python",
   "name": "python",
   "nbconvert_exporter": "python",
   "pygments_lexer": "ipython3",
   "version": "3.8.8"
  }
 },
 "nbformat": 4,
 "nbformat_minor": 5
}
